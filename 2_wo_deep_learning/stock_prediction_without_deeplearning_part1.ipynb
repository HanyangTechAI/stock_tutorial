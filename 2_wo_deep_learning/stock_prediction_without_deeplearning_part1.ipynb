{
 "cells": [
  {
   "cell_type": "markdown",
   "id": "d526c8b4",
   "metadata": {},
   "source": [
    "# 딥러닝 안쓰고 주가 예측하기 part1\n",
    "\n",
    "본 tutorial에선 deep learning을 사용하지 않고 주가를 예측하는 방법에 대하여 다룹니다.\n",
    "\n",
    "<다룰 내용>\n",
    "- Pearson correlation coefficient"
   ]
  },
  {
   "cell_type": "code",
   "execution_count": null,
   "id": "d3275ba5",
   "metadata": {},
   "outputs": [],
   "source": [
    "# 이번 tutorial에서 사용할 파이썬 라이브러리를 불러옵니다.\n",
    "import numpy as np\n",
    "import pandas as pd\n",
    "import matplotlib.pyplot as plt\n",
    "import seaborn as sns\n",
    "import yfinance\n",
    "import pandas_datareader as pdr\n",
    "from datetime import datetime, timedelta, timezone\n",
    "\n",
    "%matplotlib inline"
   ]
  },
  {
   "cell_type": "markdown",
   "id": "9131748e",
   "metadata": {},
   "source": [
    "## Pearson correlation coefficient\n",
    "Pearson correlation coefficient(피어슨 상관계수)는 두 변수 사이의 상관관계를 수치적으로 계산할 때 사용합니다.\n",
    "\n",
    "상관계수란 두 벡터 사이의 관계를 수치적으로 나타낸 것으로, 예컨대 $x$가 증가할 때 $y$가 증가한다면 상관계수가 양수이고 그 반대의 경우엔 음수입니다.\n",
    "상관계수 $\\rho$는 $[-1, 1]$ 구간의 값을 갖습니다. 두 벡터사이의 양의 상관관계가 강할수록 1에 수렴하고, 정반대로 움직이는 경우 -1에 수렴합니다."
   ]
  },
  {
   "cell_type": "code",
   "execution_count": null,
   "id": "114017ad",
   "metadata": {},
   "outputs": [],
   "source": [
    "X = np.linspace(0, 10, 1000)\n",
    "\n",
    "# 간단한 두 벡터를 만들어봅시다.\n",
    "Y1 = X + np.random.randn(X.shape[0])\n",
    "Y2 = X + np.random.randn(X.shape[0]) + 0.5"
   ]
  },
  {
   "cell_type": "code",
   "execution_count": null,
   "id": "3e211e3f",
   "metadata": {},
   "outputs": [],
   "source": [
    "# 두 벡터의 상관관계를 눈으로 확인해봅시다.\n",
    "plt.scatter(X, Y1, s=2)\n",
    "plt.scatter(X, Y2, s=2)"
   ]
  },
  {
   "cell_type": "code",
   "execution_count": null,
   "id": "0193b8ac",
   "metadata": {},
   "outputs": [],
   "source": [
    "# Y1이 증가하면 Y2도 증가하는, 양의 상관관계를 가지는 것을 눈으로 확인할 수 있습니다.\n",
    "# Pearson correlation을 계산하여 어떤 값을 갖는지 확인해봅시다.\n",
    "print('pearson coef:', np.corrcoef(x=Y1, y=Y2))"
   ]
  },
  {
   "cell_type": "code",
   "execution_count": null,
   "id": "14e31c53",
   "metadata": {},
   "outputs": [],
   "source": [
    "# 이번에는 음의 상관관계를 갖는 두 벡터를 만들어봅시다.\n",
    "Y1 = X + np.random.randn(X.shape[0])\n",
    "Y2 = 10 - X - np.random.randn(X.shape[0])"
   ]
  },
  {
   "cell_type": "code",
   "execution_count": null,
   "id": "37b3bd36",
   "metadata": {},
   "outputs": [],
   "source": [
    "# 두 벡터의 상관관계를 눈으로 확인해봅시다.\n",
    "plt.scatter(X, Y1, s=2)\n",
    "plt.scatter(X, Y2, s=2)"
   ]
  },
  {
   "cell_type": "code",
   "execution_count": null,
   "id": "1ffc7548",
   "metadata": {},
   "outputs": [],
   "source": [
    "# Y1이 증가하면 Y2는 감소하는, 음의 상관관계를 가지는 것을 눈으로 확인할 수 있습니다.\n",
    "# Pearson correlation을 계산하여 어떤 값을 갖는지 확인해봅시다.\n",
    "print('pearson coef:', np.corrcoef(x=Y1, y=Y2))"
   ]
  },
  {
   "cell_type": "markdown",
   "id": "4ff4a9f6",
   "metadata": {},
   "source": [
    "## 피어슨 상관계수를 이용한 주가 예측\n",
    "\n",
    "피어슨 상관계수를 이용해 두 변수의 움직임의 관계를 수치적으로 확인할 수 있음을 보았습니다.\n",
    "이제 위 내용을 바탕으로 주가 예측을 시도해봅시다."
   ]
  },
  {
   "cell_type": "code",
   "execution_count": null,
   "id": "bcb39e0b",
   "metadata": {},
   "outputs": [],
   "source": [
    "# 지금까지의 모든 나스닥 지수(^IXIC)를 가져옵니다.\n",
    "now = datetime.now(timezone(timedelta(hours=-4)))\n",
    "df = pdr.get_data_yahoo('^IXIC', start='1971-02-05', end=now.strftime('%Y-%m-%d'))\n",
    "df = df[['Close']]\n",
    "\n",
    "# 전일 종가대비 금일 종가의 수익률(return)을 계산합니다.\n",
    "df['Return'] = df['Close'].pct_change()\n",
    "df = df.iloc[1:]  # 첫 번째 데이터는 전날 종가가 없으므로 NaN이 나옵니다. 따라서 제거하도록 합니다.\n",
    "\n",
    "df"
   ]
  },
  {
   "cell_type": "markdown",
   "id": "57c1a3ee",
   "metadata": {},
   "source": [
    "cf) $Return(t) = \\frac{S_t - S_{t-1}}{S_{t-1}}$"
   ]
  },
  {
   "cell_type": "code",
   "execution_count": null,
   "id": "1125926e",
   "metadata": {},
   "outputs": [],
   "source": [
    "# 나스닥 지수의 종가 그래프를 그려봅니다.\n",
    "plt.figure(figsize=(12, 4))\n",
    "sns.lineplot(data=df, x='Date', y='Close')"
   ]
  },
  {
   "cell_type": "code",
   "execution_count": null,
   "id": "b5b025ac",
   "metadata": {},
   "outputs": [],
   "source": [
    "# 이번엔 나스닥 지수의 일일 수익률 그래프를 그려봅시다.\n",
    "plt.figure(figsize=(12, 4))\n",
    "sns.lineplot(data=df, x='Date', y='Return')"
   ]
  },
  {
   "cell_type": "markdown",
   "id": "22259e8c",
   "metadata": {},
   "source": [
    "단순히 지수만 보았을 때보단 수익률을 보았을 때 유사한 패턴이 많이 나올 것 같습니다.\n",
    "\n",
    "최근 수익률 패턴과 유사한 과거 차트를 찾아 과거엔 주가가 상승했는지, 하락했는지를 보고 가격 예측을 하는 모델을 만들어봅시다."
   ]
  },
  {
   "cell_type": "code",
   "execution_count": null,
   "id": "7d44d601",
   "metadata": {},
   "outputs": [],
   "source": [
    "# 20 거래일만큼 지수 데이터를 잘라내어 데이터셋을 만들어봅시다.\n",
    "WINDOW_SIZE = 20\n",
    "DATASET_SIZE = len(df) - 2 * WINDOW_SIZE + 1\n",
    "\n",
    "Xs = np.zeros((DATASET_SIZE, WINDOW_SIZE))\n",
    "Ys = np.zeros((DATASET_SIZE, WINDOW_SIZE))\n",
    "\n",
    "for i in range(DATASET_SIZE):\n",
    "    Xs[i] = df.iloc[i:i + WINDOW_SIZE]['Return'].to_numpy()\n",
    "    Ys[i] = df.iloc[i + WINDOW_SIZE:i + 2 * WINDOW_SIZE]['Return'].to_numpy()"
   ]
  },
  {
   "cell_type": "code",
   "execution_count": null,
   "id": "1ec7ea98",
   "metadata": {},
   "outputs": [],
   "source": [
    "# Xs끼리의 피어슨 상관계수를 구해봅시다.\n",
    "# 이때 Xs[-1]은 가장 최근 20거래일의 수익률 지표입니다.\n",
    "coef = np.corrcoef(Xs)[-1, :-1]\n",
    "coef"
   ]
  },
  {
   "cell_type": "code",
   "execution_count": null,
   "id": "3fc80d58",
   "metadata": {},
   "outputs": [],
   "source": [
    "# 가장 비슷한 수익률 추이를 보이는 날과, 가장 반대되는 수익률 추이를 보이는 날을 찾아봅시다.\n",
    "max_id = np.argmax(coef)\n",
    "min_id = np.argmin(coef)\n",
    "\n",
    "print('maximum coef:', coef[max_id])\n",
    "print('minimum coef:', coef[min_id])"
   ]
  },
  {
   "cell_type": "code",
   "execution_count": null,
   "id": "81993d2e",
   "metadata": {},
   "outputs": [],
   "source": [
    "# 실제로 그러한지 그래프를 그려봅시다.\n",
    "x_axis = np.arange(0, WINDOW_SIZE)\n",
    "\n",
    "plt.figure(figsize=(12, 4))\n",
    "plt.plot(x_axis, Xs[max_id], label='maximum coef')\n",
    "plt.plot(x_axis, Xs[-1], label='latest')\n",
    "plt.plot(x_axis, Xs[min_id], label='minimum coef')\n",
    "plt.legend(loc='best')"
   ]
  },
  {
   "cell_type": "markdown",
   "id": "974ea29a",
   "metadata": {},
   "source": [
    "위 사례를 통해 주가 데이터에서 피어슨 상관계수를 이용해 유사하거나 완전히 반대되는 시기를 찾을 수 있음을 확인했습니다.\n",
    "또한, 수치적으로 얼마만큼 유사한지도 구할 수 있었습니다.\n",
    "\n",
    "이제, 수익률 추이가 비슷하면 그 후에 주가의 향방도 유사할거란 가정을 하고 모델을 만들어봅시다.\n",
    "위에서 얻은 정보를 이용하는 방법은 다양하게 존재합니다.\n",
    "이번 tutorial에선 가장 비슷한 상위 $N$개를 평균내어 예측하는 것으로 해보겠습니다."
   ]
  },
  {
   "cell_type": "code",
   "execution_count": null,
   "id": "93e0041a",
   "metadata": {},
   "outputs": [],
   "source": [
    "# 가장 비슷한 상위 30개를 구해 weighted average을 내어봅시다.\n",
    "K = 30\n",
    "top_k = np.argpartition(coef, -K)[-K:]\n",
    "\n",
    "predict = np.sum(np.multiply(Ys[top_k], coef[top_k].reshape((-1, 1))), axis=0) / np.sum(coef[top_k])\n",
    "predict"
   ]
  },
  {
   "cell_type": "code",
   "execution_count": null,
   "id": "fdf02931",
   "metadata": {},
   "outputs": [],
   "source": [
    "# 예상 수익률을 바탕으로 예상 주가를 계산해봅시다.\n",
    "last_price = df['Close'].iloc[-1]\n",
    "start_price = last_price\n",
    "predict_prices = np.zeros(WINDOW_SIZE)\n",
    "for i in range(WINDOW_SIZE):\n",
    "    last_price = last_price * (1 + predict[i])\n",
    "    predict_prices[i] = last_price\n",
    "    \n",
    "print('20 거래일 후 예상 지수: {:.2f}'.format(last_price))\n",
    "print('20 거래일 후 예상 수익률: {:.2f}%'.format((last_price - start_price) / start_price * 100))"
   ]
  },
  {
   "cell_type": "code",
   "execution_count": null,
   "id": "712c55b7",
   "metadata": {},
   "outputs": [],
   "source": [
    "# 예상 수익률을 바탕으로 그림을 그려봅시다.\n",
    "# 겸사겸사 top-k에 해당하는 주가 변화도 그려봅시다.\n",
    "plt.figure(figsize=(12, 4))\n",
    "plt.plot(x_axis, predict_prices / start_price, linewidth=5)\n",
    "\n",
    "for i in top_k:\n",
    "    prices = np.zeros(WINDOW_SIZE)\n",
    "    prices[0] = 1 + Ys[i, 0]\n",
    "    for j in range(1, WINDOW_SIZE):\n",
    "        prices[j] = prices[j - 1] * (1 + Ys[i, j])\n",
    "        \n",
    "    plt.plot(x_axis, prices, alpha=0.3, linewidth=1)"
   ]
  }
 ],
 "metadata": {
  "kernelspec": {
   "display_name": "nasdaq",
   "language": "python",
   "name": "nasdaq"
  },
  "language_info": {
   "codemirror_mode": {
    "name": "ipython",
    "version": 3
   },
   "file_extension": ".py",
   "mimetype": "text/x-python",
   "name": "python",
   "nbconvert_exporter": "python",
   "pygments_lexer": "ipython3",
   "version": "3.9.7"
  }
 },
 "nbformat": 4,
 "nbformat_minor": 5
}
